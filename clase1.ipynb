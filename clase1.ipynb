{
  "nbformat": 4,
  "nbformat_minor": 0,
  "metadata": {
    "colab": {
      "provenance": [],
      "authorship_tag": "ABX9TyPMVHoHMXNu3pCcjFKimgw6",
      "include_colab_link": true
    },
    "kernelspec": {
      "name": "python3",
      "display_name": "Python 3"
    },
    "language_info": {
      "name": "python"
    }
  },
  "cells": [
    {
      "cell_type": "markdown",
      "metadata": {
        "id": "view-in-github",
        "colab_type": "text"
      },
      "source": [
        "<a href=\"https://colab.research.google.com/github/BrendaD1az/BrendaD1az/blob/main/clase1.ipynb\" target=\"_parent\"><img src=\"https://colab.research.google.com/assets/colab-badge.svg\" alt=\"Open In Colab\"/></a>"
      ]
    },
    {
      "cell_type": "code",
      "source": [
        "new_user = \"chocostar\"\n",
        "user_number = 3425\n",
        "print( new_user)\n",
        "print( user_number)"
      ],
      "metadata": {
        "colab": {
          "base_uri": "https://localhost:8080/"
        },
        "id": "w8l9lumqqGrV",
        "outputId": "cd8c386a-d5a0-4805-a842-bd9314407337"
      },
      "execution_count": 4,
      "outputs": [
        {
          "output_type": "stream",
          "name": "stdout",
          "text": [
            "chocostar\n",
            "3425\n"
          ]
        }
      ]
    },
    {
      "cell_type": "code",
      "source": [
        "#Operadores aritmeticos#\n",
        "x = 30\n",
        "y = 20\n",
        "\n",
        "#suma + #\n",
        "\n",
        "suma = 10 + 30\n",
        "suma = 50 + 20\n",
        "suma = x + 50\n",
        "print(suma)"
      ],
      "metadata": {
        "colab": {
          "base_uri": "https://localhost:8080/"
        },
        "id": "EBQc31uzrWqH",
        "outputId": "28c74afa-e027-46c1-87f2-6ee4fc0e03e3"
      },
      "execution_count": 6,
      "outputs": [
        {
          "output_type": "stream",
          "name": "stdout",
          "text": [
            "80\n"
          ]
        }
      ]
    },
    {
      "cell_type": "code",
      "source": [
        "# ojo con este tipo de dato, python no suma strigs(\"\") y ints(num) : conc = 30 + \"Jose\" #\n",
        "conc = \"Juan\" + \"Lopez\"\n",
        "print(conc)\n",
        "\n",
        "#concatenar means sobreponer datos en suma#"
      ],
      "metadata": {
        "colab": {
          "base_uri": "https://localhost:8080/"
        },
        "id": "YS_Toqsuthu-",
        "outputId": "d6d37363-9211-4dc7-95b2-1965d004163b"
      },
      "execution_count": 9,
      "outputs": [
        {
          "output_type": "stream",
          "name": "stdout",
          "text": [
            "JuanLopez\n"
          ]
        }
      ]
    },
    {
      "cell_type": "code",
      "source": [
        "#I/O (In and Out)\n",
        "#salida\n",
        "print(\"hola\")\n",
        "\n",
        "#Entrada\n",
        "nombre_usuario = input(\"Ingresa tu nombre\")\n",
        "print(\"Bienvenido\", nombre_usuario)"
      ],
      "metadata": {
        "colab": {
          "base_uri": "https://localhost:8080/"
        },
        "id": "tTKLMXCfwPSs",
        "outputId": "6bd3a4e0-ec46-4328-91b9-44a9c9767d85"
      },
      "execution_count": 12,
      "outputs": [
        {
          "output_type": "stream",
          "name": "stdout",
          "text": [
            "hola\n",
            "Ingresa tu nombreRamon\n",
            "Bienvenido Ramon\n"
          ]
        }
      ]
    },
    {
      "cell_type": "code",
      "source": [
        "#pedir al usuario dos numeros#\n",
        "\n",
        "print(\"Esta es una calculadora de dos numeros\")\n",
        "num_uno = input(\"Ingrese su numero\")\n",
        "num_dos = input(\"Igrese otro numero\")\n",
        "\n",
        "num_uno = int(num_uno)\n",
        "num_dos = int(num_dos)\n",
        "\n",
        "suma = num_uno + num_dos\n",
        "\n",
        "print(\"La suma es:\", suma)"
      ],
      "metadata": {
        "colab": {
          "base_uri": "https://localhost:8080/"
        },
        "id": "O-3b_PeOxGsX",
        "outputId": "0d0f0300-2e43-41ec-8c51-790cc174529d"
      },
      "execution_count": 20,
      "outputs": [
        {
          "output_type": "stream",
          "name": "stdout",
          "text": [
            "Esta es una calculadora de dos numeros\n",
            "Ingrese su numero5\n",
            "Igrese otro numero9\n",
            "La suma es: 14\n"
          ]
        }
      ]
    },
    {
      "cell_type": "code",
      "source": [
        "#int\n",
        "\n",
        "x = int(\"50\")\n",
        "y = int(\"70\")\n",
        "suma = x + y\n",
        "print(suma)\n"
      ],
      "metadata": {
        "colab": {
          "base_uri": "https://localhost:8080/"
        },
        "id": "zjLEVQKcyQvw",
        "outputId": "e9720d4a-cf14-4f34-851b-9335a4b24991"
      },
      "execution_count": 16,
      "outputs": [
        {
          "output_type": "stream",
          "name": "stdout",
          "text": [
            "120\n"
          ]
        }
      ]
    },
    {
      "cell_type": "code",
      "source": [
        "#float()\n",
        "#str()\n",
        "\n",
        "str(50)\n",
        "float(43)"
      ],
      "metadata": {
        "colab": {
          "base_uri": "https://localhost:8080/"
        },
        "id": "7mofzVcu0AXV",
        "outputId": "f123475b-5511-42f1-fc61-64baddeeca46"
      },
      "execution_count": 22,
      "outputs": [
        {
          "output_type": "execute_result",
          "data": {
            "text/plain": [
              "43.0"
            ]
          },
          "metadata": {},
          "execution_count": 22
        }
      ]
    }
  ]
}